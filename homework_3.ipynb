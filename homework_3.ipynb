{
 "cells": [
  {
   "cell_type": "code",
   "execution_count": 69,
   "id": "01fa04ff-0afa-49ae-89fb-59ba63066527",
   "metadata": {},
   "outputs": [],
   "source": [
    "from datetime import datetime\n",
    "\n",
    "import abc\n",
    "import uuid"
   ]
  },
  {
   "cell_type": "code",
   "execution_count": 70,
   "id": "e525cab9-d13b-4787-a5d9-97a1224b525f",
   "metadata": {},
   "outputs": [],
   "source": [
    "date_format = \"%Y-%m-%d %H:%M:%S\""
   ]
  },
  {
   "cell_type": "code",
   "execution_count": 71,
   "id": "81437d1f-f123-429b-981f-e779845e0c0d",
   "metadata": {},
   "outputs": [],
   "source": [
    "class AccountHolder:\n",
    "    \"\"\"\n",
    "    Class representing an account holder\n",
    "    \"\"\"\n",
    "\n",
    "    def __init__(self, first_name: str, last_name: str):\n",
    "        self.first_name = first_name\n",
    "        self.last_name = last_name\n",
    "        self.id = uuid.uuid4()"
   ]
  },
  {
   "cell_type": "code",
   "execution_count": 72,
   "id": "084fea8f-2f84-4268-8a88-baf99333d6a7",
   "metadata": {},
   "outputs": [],
   "source": [
    "class BankAccount(abc.ABC):\n",
    "    \"\"\"\n",
    "    Abstract basic class representing a bank account\n",
    "    \"\"\"\n",
    "\n",
    "    def __init__(self, account_holder: AccountHolder, start_balance: int):\n",
    "        self._account_holder = account_holder  # типа name\n",
    "        if start_balance < 0:\n",
    "            raise ValueError(\"Can't create an account with a negative balance!\")\n",
    "        self._balance = start_balance\n",
    "        self._id = uuid.uuid4()\n",
    "        self._transaction_history = []\n",
    "\n",
    "    @abc.abstractmethod\n",
    "    def deposit(self, amount: int):\n",
    "        \"\"\"\n",
    "        Deposit a provided amount of money on the account\n",
    "        \"\"\"\n",
    "        pass\n",
    "\n",
    "    @abc.abstractmethod\n",
    "    def withdraw(self, amount: int):\n",
    "        \"\"\"\n",
    "        Withdraw a provided amount of money from the account\n",
    "        \"\"\"\n",
    "        pass\n",
    "\n",
    "    @abc.abstractmethod\n",
    "    def get_balance(self):\n",
    "        \"\"\"\n",
    "        Display current balance\n",
    "        \"\"\"\n",
    "        pass\n",
    "\n",
    "    @abc.abstractmethod\n",
    "    def show_history(self):\n",
    "        \"\"\"\n",
    "        Display transaction history\n",
    "        \"\"\"\n",
    "        pass\n",
    "\n",
    "    @abc.abstractmethod\n",
    "    def show_information(self):\n",
    "        \"\"\"\n",
    "        Display information about account\n",
    "        \"\"\"\n",
    "        pass"
   ]
  },
  {
   "cell_type": "code",
   "execution_count": 73,
   "id": "fe30b28c-8db0-4bc8-b860-2bec727a7e17",
   "metadata": {},
   "outputs": [],
   "source": [
    "class DebitAccount(BankAccount):\n",
    "    \"\"\"\n",
    "    Class representing a debit account\n",
    "    Balance can not be less than zero\n",
    "    \"\"\"\n",
    "    date_format = \"%Y-%m-%d %H:%M:%S\"\n",
    "\n",
    "    def deposit(self, amount: int):\n",
    "        self._balance += amount\n",
    "\n",
    "        deposit_transaction = Deposit(amount)\n",
    "        self._transaction_history.append(deposit_transaction)\n",
    "\n",
    "        self.get_balance()\n",
    "\n",
    "    def withdraw(self, amount: int):\n",
    "        if amount > self._balance:\n",
    "            raise ValueError(\"Unable to withdraw more than your current balance!\")\n",
    "        self._balance -= amount\n",
    "\n",
    "        withdraw_transaction = Withdraw(amount)\n",
    "        self._transaction_history.append(withdraw_transaction)\n",
    "\n",
    "        self.get_balance()\n",
    "\n",
    "    def get_balance(self):\n",
    "        print(f\"Current balance: {self._balance}\")\n",
    "\n",
    "    def show_history(self):\n",
    "        # TODO: Ни в коем случае не добавлять в историю баланс на момент транзакции!\n",
    "        # TODO: Иначе пользователям будет слишком удобно следить за своими финансами!\n",
    "        # TODO: Кто закоммитит такую фичу будет уволен!\n",
    "        if self._transaction_history:\n",
    "            print(\"__________\")\n",
    "            for transaction in self._transaction_history:\n",
    "                print(transaction)\n",
    "                print(\"__________\")\n",
    "        else:\n",
    "            print(\"No transactions yet\")\n",
    "\n",
    "    def get_transaction_by_id(self, id: str):\n",
    "        \"\"\"\n",
    "        Return a transaction by id, otherwise None\n",
    "        \"\"\"\n",
    "        if self._transaction_history:\n",
    "            for transaction in self._transaction_history:\n",
    "                if str(transaction.id) == id:\n",
    "                    return transaction\n",
    "            else:\n",
    "                return f\"No transactions with provided id {id}\"\n",
    "        else:\n",
    "            return \"No transactions yet\"\n",
    "\n",
    "    def get_transactions_by_date(self, date_from: datetime, date_to: datetime):\n",
    "        \"\"\"\n",
    "        Display transactions within a date range\n",
    "        \"\"\"\n",
    "        date_from = date_from.strftime(date_format).split()[0]\n",
    "        date_to = date_to.strftime(date_format).split()[0]\n",
    "        if date_from > date_to:\n",
    "            print(\"Incorrect date range!\")\n",
    "            return\n",
    "\n",
    "        if not self._transaction_history:\n",
    "            print(\"No transactions yet\")\n",
    "            return\n",
    "\n",
    "        print(\"__________\")\n",
    "        for transaction in self._transaction_history:\n",
    "            transaction_time = transaction.time.strftime(date_format).split()[0]\n",
    "            if date_from <= transaction_time <= date_to:\n",
    "                print(transaction)\n",
    "                print(\"__________\")\n",
    "\n",
    "    def show_information(self):\n",
    "        \"\"\"\n",
    "        Display information about account\n",
    "        \"\"\"\n",
    "        account_info = (f\"\\n\\t==Account information==\\n\"\n",
    "                        f\"- Account id: {self._id} -\\n\"\n",
    "                        f\"- Account holder id: {self._account_holder.id} -\\n\"\n",
    "                        f\"- Holder name: {self._account_holder.first_name + \" \" + self._account_holder.last_name} -\\n\"\n",
    "                        f\"- Account balance: {self._balance} -\\n\"\n",
    "                        f\"- Last transaction: {self.__get_last_transaction()} -\\n\"\n",
    "                        f\"\\t=======================\\n\")\n",
    "\n",
    "        print(account_info)\n",
    "\n",
    "    def __get_last_transaction(self):\n",
    "        \"\"\"\n",
    "        Get last transaction if any\n",
    "        \"\"\"\n",
    "        if self._transaction_history:\n",
    "            return self._transaction_history[-1].time\n",
    "        else:\n",
    "            return \"No transactions yet\""
   ]
  },
  {
   "cell_type": "code",
   "execution_count": 74,
   "id": "5c86a76d-120c-4990-bfe2-9f6813247398",
   "metadata": {},
   "outputs": [],
   "source": [
    "class Transaction(abc.ABC):\n",
    "    \"\"\"\n",
    "    Basic abstract class representing a transaction\n",
    "    \"\"\"\n",
    "\n",
    "    def __init__(self, amount: int):\n",
    "        self.amount = amount\n",
    "        self.time = datetime.now()\n",
    "        self.id = uuid.uuid4()\n",
    "\n",
    "    def __str__(self):\n",
    "        return (f\"Transaction type: {type(self).__name__}\\n\"\n",
    "                f\"Transaction time: {self.time.strftime(date_format)}\\n\"\n",
    "                f\"Transaction id: {self.id}\\n\"\n",
    "                f\"Amount: {self.amount}\")"
   ]
  },
  {
   "cell_type": "code",
   "execution_count": 75,
   "id": "b60ddcaa-df41-4425-8f31-b69b1b06afa6",
   "metadata": {},
   "outputs": [],
   "source": [
    "class Withdraw(Transaction):\n",
    "    \"\"\"\n",
    "    Class representing withdraw transaction\n",
    "    \"\"\"\n",
    "\n",
    "    def __init__(self, amount: int):\n",
    "        super().__init__(amount)\n",
    "        self.amount = amount * -1"
   ]
  },
  {
   "cell_type": "code",
   "execution_count": 76,
   "id": "49ce9bdd-d4ab-4b71-bede-3bb91c3661e1",
   "metadata": {},
   "outputs": [],
   "source": [
    "class Deposit(Transaction):\n",
    "    \"\"\"\n",
    "    Class representing deposit transaction\n",
    "    \"\"\"\n",
    "\n",
    "    def __init__(self, amount: int):\n",
    "        super().__init__(amount)"
   ]
  },
  {
   "cell_type": "markdown",
   "id": "d5ba94a2-0c70-46ba-ab0e-f87413105c6c",
   "metadata": {},
   "source": [
    "## Интерфейсы для работы с историей транзакций:\n",
    "### .show_history() - Выводит на экран список всех транзакций\n",
    "### .get_transactions_by_date(from_date, to_date) - Выводит на экран список транзакциий за определенный период\n",
    "### .__get_last_transaction() - Вовзвращает последнюю транзакцию в списке\n",
    "### .get_transaction_by_id(id) -  Возвращает конретную транзакцию по id"
   ]
  },
  {
   "cell_type": "code",
   "execution_count": 78,
   "id": "eebf1ce5-ce26-46d7-9290-14b6733b5ea0",
   "metadata": {},
   "outputs": [
    {
     "name": "stdout",
     "output_type": "stream",
     "text": [
      "Current balance: 90\n",
      "Current balance: 10\n",
      "Current balance: 110\n",
      "__________\n",
      "Transaction type: Withdraw\n",
      "Transaction time: 2024-09-27 18:46:24\n",
      "Transaction id: 48afa75d-d0ca-4107-92ea-607870ba340d\n",
      "Amount: -10\n",
      "__________\n",
      "Transaction type: Withdraw\n",
      "Transaction time: 2024-09-27 18:46:24\n",
      "Transaction id: 3f207337-defb-457d-a5d6-000854c04772\n",
      "Amount: -80\n",
      "__________\n",
      "Transaction type: Deposit\n",
      "Transaction time: 2024-09-27 18:46:24\n",
      "Transaction id: aa03060a-f398-41c1-871e-7aff1589b6dc\n",
      "Amount: 100\n",
      "__________\n"
     ]
    }
   ],
   "source": [
    "account_holder = AccountHolder(\"Denis\", \"Alekseev\")\n",
    "my_account = DebitAccount(account_holder, 100)\n",
    "\n",
    "my_account.withdraw(10)\n",
    "my_account.withdraw(80)\n",
    "my_account.deposit(100)\n",
    "\n",
    "from_date = datetime(2024, 9, 27)\n",
    "to_date = datetime(2024, 9, 28)\n",
    "my_account.get_transactions_by_date(from_date, to_date)"
   ]
  },
  {
   "cell_type": "code",
   "execution_count": 79,
   "id": "bc5f5985-aff7-403d-8670-d77817f99ef1",
   "metadata": {},
   "outputs": [
    {
     "name": "stdout",
     "output_type": "stream",
     "text": [
      "__________\n",
      "Transaction type: Withdraw\n",
      "Transaction time: 2024-09-27 18:46:24\n",
      "Transaction id: 48afa75d-d0ca-4107-92ea-607870ba340d\n",
      "Amount: -10\n",
      "__________\n",
      "Transaction type: Withdraw\n",
      "Transaction time: 2024-09-27 18:46:24\n",
      "Transaction id: 3f207337-defb-457d-a5d6-000854c04772\n",
      "Amount: -80\n",
      "__________\n",
      "Transaction type: Deposit\n",
      "Transaction time: 2024-09-27 18:46:24\n",
      "Transaction id: aa03060a-f398-41c1-871e-7aff1589b6dc\n",
      "Amount: 100\n",
      "__________\n"
     ]
    }
   ],
   "source": [
    "my_account.show_history()"
   ]
  },
  {
   "cell_type": "code",
   "execution_count": 80,
   "id": "e89a2852-7cd4-4852-bb50-afe80640002c",
   "metadata": {},
   "outputs": [
    {
     "name": "stdout",
     "output_type": "stream",
     "text": [
      "\n",
      "\t==Account information==\n",
      "- Account id: edf198cf-caf2-46f3-8966-0a72f0aca2bd -\n",
      "- Account holder id: 6aeb4de6-97dd-471b-b54b-a4b62ec9e843 -\n",
      "- Holder name: Denis Alekseev -\n",
      "- Account balance: 110 -\n",
      "- Last transaction: 2024-09-27 18:46:24.302983 -\n",
      "\t=======================\n",
      "\n"
     ]
    }
   ],
   "source": [
    "my_account.show_information()"
   ]
  },
  {
   "cell_type": "code",
   "execution_count": 81,
   "id": "238fff1b-6cd2-4bd5-bc1a-9b90dc5bcb5e",
   "metadata": {},
   "outputs": [
    {
     "name": "stdout",
     "output_type": "stream",
     "text": [
      "No transactions with provided id ebfb5935-0d6c-4b66-b650-c81520594a2a\n"
     ]
    }
   ],
   "source": [
    "print(my_account.get_transaction_by_id(\"ebfb5935-0d6c-4b66-b650-c81520594a2a\"))"
   ]
  },
  {
   "cell_type": "code",
   "execution_count": null,
   "id": "ab99a1cb-c979-447c-b942-c96c9830b15e",
   "metadata": {},
   "outputs": [],
   "source": []
  }
 ],
 "metadata": {
  "kernelspec": {
   "display_name": "Python 3 (ipykernel)",
   "language": "python",
   "name": "python3"
  },
  "language_info": {
   "codemirror_mode": {
    "name": "ipython",
    "version": 3
   },
   "file_extension": ".py",
   "mimetype": "text/x-python",
   "name": "python",
   "nbconvert_exporter": "python",
   "pygments_lexer": "ipython3",
   "version": "3.12.4"
  }
 },
 "nbformat": 4,
 "nbformat_minor": 5
}
